{
 "cells": [
  {
   "cell_type": "code",
   "execution_count": 10,
   "metadata": {},
   "outputs": [
    {
     "name": "stdout",
     "output_type": "stream",
     "text": [
      "['1st_Year', '2nd_Year', '3rd_Year', '4th_Year']\n",
      "/home/rahuldecoded/Internshala/Question-Paper/1st_Year\n",
      "/home/rahuldecoded/Internshala/Question-Paper/2nd_Year\n",
      "/home/rahuldecoded/Internshala/Question-Paper/3rd_Year\n",
      "/home/rahuldecoded/Internshala/Question-Paper/4th_Year\n"
     ]
    }
   ],
   "source": [
    "import os\n",
    "\n",
    "\n",
    "directory_list = [i for i in os.listdir() if os.path.isdir(i) and '.' not in i]\n",
    "print(directory_list)\n",
    "\n",
    "for i in directory_list:\n",
    "    os.chdir(i)\n",
    "    print(os.getcwd())\n",
    "    temp = [j for j in os.listdir() if os.path.isdir(j)]\n",
    "    for j in temp:\n",
    "        os.chdir(j)\n",
    "        for x in range(2013, 2031):\n",
    "            os.chdir(str(x))\n",
    "            os.system(\"> \" + str(x) + \".txt\")\n",
    "            os.chdir(\"..\")\n",
    "        os.chdir(\"..\")\n",
    "    os.chdir(\"..\")"
   ]
  },
  {
   "cell_type": "code",
   "execution_count": 8,
   "metadata": {},
   "outputs": [
    {
     "data": {
      "text/plain": [
       "0"
      ]
     },
     "execution_count": 8,
     "metadata": {},
     "output_type": "execute_result"
    }
   ],
   "source": [
    "os.getcwd()\n",
    "os.system(\"cd ..\")"
   ]
  },
  {
   "cell_type": "code",
   "execution_count": null,
   "metadata": {
    "collapsed": true
   },
   "outputs": [],
   "source": []
  }
 ],
 "metadata": {
  "kernelspec": {
   "display_name": "Python 3",
   "language": "python",
   "name": "python3"
  },
  "language_info": {
   "codemirror_mode": {
    "name": "ipython",
    "version": 3
   },
   "file_extension": ".py",
   "mimetype": "text/x-python",
   "name": "python",
   "nbconvert_exporter": "python",
   "pygments_lexer": "ipython3",
   "version": "3.6.1"
  }
 },
 "nbformat": 4,
 "nbformat_minor": 2
}
